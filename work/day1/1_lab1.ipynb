{
 "cells": [
  {
   "cell_type": "markdown",
   "metadata": {},
   "source": [
    "# Welcome to the start of your adventure in Agentic AI"
   ]
  },
  {
   "cell_type": "markdown",
   "metadata": {},
   "source": [
    "<table style=\"margin: 0; text-align: left; width:100%\">\n",
    "    <tr>\n",
    "        <td style=\"width: 150px; height: 150px; vertical-align: middle;\">\n",
    "            <img src=\"../assets/stop.png\" width=\"150\" height=\"150\" style=\"display: block;\" />\n",
    "        </td>\n",
    "        <td>\n",
    "            <h2 style=\"color:#ff7800;\">Are you ready for action??</h2>\n",
    "            <span style=\"color:#ff7800;\">Have you completed all the setup steps in the <a href=\"../setup/\">setup</a> folder?<br/>\n",
    "            Have you checked out the guides in the <a href=\"../guides/01_intro.ipynb\">guides</a> folder?<br/>\n",
    "            Well in that case, you're ready!!\n",
    "            </span>\n",
    "        </td>\n",
    "    </tr>\n",
    "</table>"
   ]
  },
  {
   "cell_type": "markdown",
   "metadata": {},
   "source": [
    "<table style=\"margin: 0; text-align: left; width:100%\">\n",
    "    <tr>\n",
    "        <td style=\"width: 150px; height: 150px; vertical-align: middle;\">\n",
    "            <img src=\"../assets/tools.png\" width=\"150\" height=\"150\" style=\"display: block;\" />\n",
    "        </td>\n",
    "        <td>\n",
    "            <h2 style=\"color:#00bfff;\">This code is a live resource - keep an eye out for my updates</h2>\n",
    "            <span style=\"color:#00bfff;\">I push updates regularly. As people ask questions or have problems, I add more examples and improve explanations. As a result, the code below might not be identical to the videos, as I've added more steps and better comments. Consider this like an interactive book that accompanies the lectures.<br/><br/>\n",
    "            I try to send emails regularly with important updates related to the course. You can find this in the 'Announcements' section of Udemy in the left sidebar. You can also choose to receive my emails via your Notification Settings in Udemy. I'm respectful of your inbox and always try to add value with my emails!\n",
    "            </span>\n",
    "        </td>\n",
    "    </tr>\n",
    "</table>"
   ]
  },
  {
   "cell_type": "markdown",
   "metadata": {},
   "source": [
    "### And please do remember to contact me if I can help\n",
    "\n",
    "And I love to connect: https://www.linkedin.com/in/eddonner/\n",
    "\n",
    "\n",
    "### New to Notebooks like this one? Head over to the guides folder!\n",
    "\n",
    "Just to check you've already added the Python and Jupyter extensions to Cursor, if not already installed:\n",
    "- Open extensions (View >> extensions)\n",
    "- Search for python, and when the results show, click on the ms-python one, and Install it if not already installed\n",
    "- Search for jupyter, and when the results show, click on the Microsoft one, and Install it if not already installed  \n",
    "Then View >> Explorer to bring back the File Explorer.\n",
    "\n",
    "And then:\n",
    "1. Click where it says \"Select Kernel\" near the top right, and select the option called `.venv (Python 3.12.9)` or similar, which should be the first choice or the most prominent choice. You may need to choose \"Python Environments\" first.\n",
    "2. Click in each \"cell\" below, starting with the cell immediately below this text, and press Shift+Enter to run\n",
    "3. Enjoy!\n",
    "\n",
    "After you click \"Select Kernel\", if there is no option like `.venv (Python 3.12.9)` then please do the following:  \n",
    "1. On Mac: From the Cursor menu, choose Settings >> VS Code Settings (NOTE: be sure to select `VSCode Settings` not `Cursor Settings`);  \n",
    "On Windows PC: From the File menu, choose Preferences >> VS Code Settings(NOTE: be sure to select `VSCode Settings` not `Cursor Settings`)  \n",
    "2. In the Settings search bar, type \"venv\"  \n",
    "3. In the field \"Path to folder with a list of Virtual Environments\" put the path to the project root, like C:\\Users\\username\\projects\\agents (on a Windows PC) or /Users/username/projects/agents (on Mac or Linux).  \n",
    "And then try again.\n",
    "\n",
    "Having problems with missing Python versions in that list? Have you ever used Anaconda before? It might be interferring. Quit Cursor, bring up a new command line, and make sure that your Anaconda environment is deactivated:    \n",
    "`conda deactivate`  \n",
    "And if you still have any problems with conda and python versions, it's possible that you will need to run this too:  \n",
    "`conda config --set auto_activate_base false`  \n",
    "and then from within the Agents directory, you should be able to run `uv python list` and see the Python 3.12 version."
   ]
  },
  {
   "cell_type": "code",
   "execution_count": 1,
   "metadata": {},
   "outputs": [],
   "source": [
    "# First let's do an import\n",
    "from dotenv import load_dotenv"
   ]
  },
  {
   "cell_type": "code",
   "execution_count": 3,
   "metadata": {},
   "outputs": [
    {
     "data": {
      "text/plain": [
       "True"
      ]
     },
     "execution_count": 3,
     "metadata": {},
     "output_type": "execute_result"
    }
   ],
   "source": [
    "# Next it's time to load the API keys into environment variables\n",
    "load_dotenv(override=True)"
   ]
  },
  {
   "cell_type": "code",
   "execution_count": 4,
   "metadata": {},
   "outputs": [
    {
     "name": "stdout",
     "output_type": "stream",
     "text": [
      "Groq API Key exists and begins gsk_v4Qt\n"
     ]
    }
   ],
   "source": [
    "# Check the keys\n",
    "\n",
    "import os\n",
    "groq_api_key = os.getenv('GROQ_API_KEY')\n",
    "\n",
    "if groq_api_key:\n",
    "    print(f\"Groq API Key exists and begins {groq_api_key[:8]}\")\n",
    "else:\n",
    "    print(\"Groq API Key not set - please head to the troubleshooting guide in the setup folder\")\n",
    "    \n"
   ]
  },
  {
   "cell_type": "code",
   "execution_count": 8,
   "metadata": {},
   "outputs": [],
   "source": [
    "from groq import Groq\n",
    "\n",
    "client = Groq()\n",
    "\n",
    "messages = [ \n",
    "    {\n",
    "        \"role\":\"user\",\n",
    "        \"content\":\"Tell me a joke about programmers.\"\n",
    "    }\n",
    "]"
   ]
  },
  {
   "cell_type": "code",
   "execution_count": 9,
   "metadata": {},
   "outputs": [
    {
     "name": "stdout",
     "output_type": "stream",
     "text": [
      "<think>\n",
      "Okay, so I need to come up with a joke about programmers. Hmm, where do I even start? I guess I should think about common stereotypes or things that programmers often do or experience. Let me brainstorm a bit.\n",
      "\n",
      "Programmers are often known for working late hours, drinking a lot of coffee, and staring at screens for long periods. They also have a reputation for being a bit socially awkward or having a dry sense of humor. Maybe I can play on one of these aspects.\n",
      "\n",
      "I remember hearing a joke before that goes something like, \"Why do programmers prefer dark mode? Because light attracts bugs.\" That's a play on words because 'bugs' can mean both insects and software errors. It's a classic pun, but maybe I can come up with something original.\n",
      "\n",
      "Let me think about other aspects. Programmers often deal with recursion, algorithms, data structures, and debugging. Maybe I can make a joke involving one of these concepts. For example, recursion is when a function calls itself, so maybe something about a programmer's social life being recursive because they keep repeating the same mistake.\n",
      "\n",
      "Or maybe something about their love for coffee. Like, why did the programmer quit their job? Because they didn't get arrays. Wait, that's a pun on 'a raise' and 'arrays' as in the data structure. That's actually a good one. I think I've heard that before too.\n",
      "\n",
      "Another angle could be about their problem-solving approach. Programmers often try to solve problems in unconventional ways. Maybe a joke about them trying to 'debug' their personal lives or something like that.\n",
      "\n",
      "Wait, I should make sure the joke is understandable to people who aren't programmers. So maybe something that's a play on words without too much jargon. For example, why do programmers prefer dark mode? Because light attracts bugs. That works because 'bugs' have a double meaning.\n",
      "\n",
      "Alternatively, why do programmers make great partners? Because they're always looking for ways to optimize your relationship. Hmm, that's a bit forced. Maybe not the best.\n",
      "\n",
      "What about their love for caffeine? Why do programmers drink so much coffee? Because it's the only loop that doesn't make them wait. That's a bit more niche, referencing loops in programming.\n",
      "\n",
      "I think the dark mode and bugs joke is pretty solid. It's simple, plays on a common pun, and is relatable even to non-programmers because they know bugs can be insects and software issues. Plus, dark mode is a popular topic these days.\n",
      "\n",
      "Wait, maybe I can make it a bit more original. Let me try. Why do programmers prefer dark mode? Because light attracts bugs, and they've got enough to deal with already. That adds a bit more humor to it by implying that they have so many bugs in their code.\n",
      "\n",
      "Or another version: Why do programmers love dark mode? Because they've already got enough 'bugs' to handle without the light attracting more! That's a bit more elaborate but still gets the point across.\n",
      "\n",
      "I think that's a good approach. It's a classic joke but with a slight twist to make it a bit more engaging. It's easy to understand and the pun is clear. Plus, it touches on a common experience for programmers, which is dealing with bugs in their code, so it's relatable.\n",
      "\n",
      "Alternatively, I could think of something involving algorithms. Like, why do programmers make great dancers? Because they can follow an algorithm. But that's a bit forced and not as catchy.\n",
      "\n",
      "Another idea: Why do programmers prefer hiking? Because they love trail-blazing and optimizing paths. That's a bit more abstract and might not land as well.\n",
      "\n",
      "I think sticking with the dark mode and bugs joke is the safest bet. It's widely recognized, the pun is effective, and it's easy to deliver. Plus, it's concise, which is important for a joke.\n",
      "\n",
      "So, to summarize, the joke would be: \"Why do programmers prefer dark mode? Because light attracts bugs!\" It's simple, effective, and plays on the dual meaning of 'bugs.' I think that's a solid choice.\n",
      "</think>\n",
      "\n",
      "**Joke:**\n",
      "\n",
      "Why do programmers prefer dark mode?  \n",
      "Because light attracts bugs, and they've already got enough to handle!"
     ]
    }
   ],
   "source": [
    "\n",
    "completion = client.chat.completions.create(\n",
    "    model=\"deepseek-r1-distill-llama-70b\",\n",
    "    messages= messages,\n",
    "    temperature=0.6,\n",
    "    max_completion_tokens=4096,\n",
    "    top_p=0.95,\n",
    "    stream=True,\n",
    "    stop=None,\n",
    ")\n",
    "\n",
    "for chunk in completion:\n",
    "    print(chunk.choices[0].delta.content or \"\", end=\"\")\n"
   ]
  },
  {
   "cell_type": "code",
   "execution_count": 10,
   "metadata": {},
   "outputs": [],
   "source": [
    "# And now - let's ask for a question:\n",
    "\n",
    "question = \"Please propose a hard, challenging question to assess someone's IQ. Respond only with the question.\"\n",
    "messages = [{\"role\": \"user\", \"content\": question}]"
   ]
  },
  {
   "cell_type": "code",
   "execution_count": 12,
   "metadata": {},
   "outputs": [
    {
     "name": "stdout",
     "output_type": "stream",
     "text": [
      "<think>\n",
      "Okay, so I'm trying to solve this question: \"A bat and a ball together cost $1.10. The bat costs $1.00 more than the ball. How much does the ball cost?\" Hmm, at first glance, it seems pretty straightforward, but I have a feeling there's a trick here. Let me think through it step by step.\n",
      "\n",
      "Alright, so the bat and the ball together cost $1.10. That means if I add the cost of the bat and the cost of the ball together, it equals $1.10. Let me write that down as an equation. Let's say the cost of the ball is B dollars. Then, the bat would be B plus $1.00 because the bat costs $1.00 more than the ball. So, the bat is B + 1.00.\n",
      "\n",
      "Now, if I add the cost of the bat and the ball, that's (B + 1.00) + B. That should equal $1.10. So, combining like terms, that's 2B + 1.00 = 1.10. To find B, I need to solve for it. Let me subtract 1.00 from both sides: 2B = 1.10 - 1.00, which is 0.10. Then, divide both sides by 2: B = 0.10 / 2 = 0.05.\n",
      "\n",
      "Wait, so the ball costs $0.05? That seems really cheap, like a nickel. But let me double-check. If the ball is $0.05, then the bat is $0.05 + $1.00 = $1.05. Adding them together: $1.05 + $0.05 = $1.10. That does add up correctly. So, the ball is 5 cents. Hmm, that seems right, but why is this question considered challenging? Maybe because it's testing not just algebra but also the ability to set up the equation correctly.\n",
      "\n",
      "I think where people might trip up is by rushing and thinking the ball is 10 cents because $1.10 minus $1.00 is $0.10, but that's not considering that the extra dollar is the difference, not the total cost of the bat. So, you have to set up the equations properly. Let me try another way to see if I get the same answer.\n",
      "\n",
      "Suppose the ball is 5 cents, so the bat is $1.05. Together, they add up to $1.10, which matches. If I thought the ball was 10 cents, the bat would be $1.10, making the total $1.20, which is too much. So yeah, 5 cents is correct. This question tests understanding of relative pricing and setting up equations correctly. It's a good problem because it's simple yet requires careful thinking to avoid the common mistake.\n",
      "</think>\n",
      "\n",
      "The ball costs 5 cents. \n",
      "\n",
      "**Step-by-Step Explanation:**\n",
      "\n",
      "1. Let the cost of the ball be \\( B \\) dollars.\n",
      "2. The bat costs \\( B + 1.00 \\) dollars.\n",
      "3. Together, their total cost is \\( B + (B + 1.00) = 1.10 \\).\n",
      "4. Simplifying the equation: \\( 2B + 1.00 = 1.10 \\).\n",
      "5. Subtract 1.00 from both sides: \\( 2B = 0.10 \\).\n",
      "6. Divide both sides by 2: \\( B = 0.05 \\).\n",
      "\n",
      "Thus, the ball costs 5 cents.\n"
     ]
    }
   ],
   "source": [
    "# ask it - this uses llama, still cheap but more powerful than nano\n",
    "\n",
    "response = client.chat.completions.create(\n",
    "    model=\"deepseek-r1-distill-llama-70b\",\n",
    "    messages=messages\n",
    ")\n",
    "\n",
    "question = response.choices[0].message.content\n",
    "\n",
    "print(question)\n"
   ]
  },
  {
   "cell_type": "code",
   "execution_count": 13,
   "metadata": {},
   "outputs": [],
   "source": [
    "# form a new messages list\n",
    "messages = [{\"role\": \"user\", \"content\": question}]"
   ]
  },
  {
   "cell_type": "code",
   "execution_count": 14,
   "metadata": {},
   "outputs": [
    {
     "name": "stdout",
     "output_type": "stream",
     "text": [
      "\n",
      "\n",
      "To determine the cost of the ball, let's break down the problem step by step.\n",
      "\n",
      "**Given:**\n",
      "- The total cost of a bat and a ball together is \\$1.10.\n",
      "- The bat costs \\$1.00 more than the ball.\n",
      "\n",
      "**Let:**\n",
      "- \\( B \\) be the cost of the ball in dollars.\n",
      "\n",
      "**Step 1: Express the Cost of the Bat**\n",
      "Since the bat costs \\$1.00 more than the ball, the cost of the bat can be expressed as:\n",
      "\\[ \\text{Cost of Bat} = B + 1.00 \\]\n",
      "\n",
      "**Step 2: Set Up the Equation for Total Cost**\n",
      "The sum of the costs of the bat and the ball is \\$1.10:\n",
      "\\[ B + (B + 1.00) = 1.10 \\]\n",
      "\n",
      "**Step 3: Simplify the Equation**\n",
      "Combine like terms:\n",
      "\\[ 2B + 1.00 = 1.10 \\]\n",
      "\n",
      "**Step 4: Solve for \\( B \\)**\n",
      "Subtract \\$1.00 from both sides of the equation:\n",
      "\\[ 2B = 1.10 - 1.00 \\]\n",
      "\\[ 2B = 0.10 \\]\n",
      "\n",
      "Divide both sides by 2 to find \\( B \\):\n",
      "\\[ B = \\frac{0.10}{2} \\]\n",
      "\\[ B = 0.05 \\]\n",
      "\n",
      "**Conclusion:**\n",
      "The cost of the ball is \\$0.05.\n",
      "\n",
      "\\[\n",
      "\\boxed{\\$0.05}\n",
      "\\]\n"
     ]
    }
   ],
   "source": [
    "# Ask it again\n",
    "\n",
    "response = client.chat.completions.create(\n",
    "    model=\"deepseek-r1-distill-llama-70b\",\n",
    "    messages=messages\n",
    ")\n",
    "\n",
    "answer = response.choices[0].message.content\n",
    "print(answer)\n"
   ]
  },
  {
   "cell_type": "code",
   "execution_count": 15,
   "metadata": {},
   "outputs": [
    {
     "data": {
      "text/markdown": [
       "\n",
       "\n",
       "To determine the cost of the ball, let's break down the problem step by step.\n",
       "\n",
       "**Given:**\n",
       "- The total cost of a bat and a ball together is \\$1.10.\n",
       "- The bat costs \\$1.00 more than the ball.\n",
       "\n",
       "**Let:**\n",
       "- \\( B \\) be the cost of the ball in dollars.\n",
       "\n",
       "**Step 1: Express the Cost of the Bat**\n",
       "Since the bat costs \\$1.00 more than the ball, the cost of the bat can be expressed as:\n",
       "\\[ \\text{Cost of Bat} = B + 1.00 \\]\n",
       "\n",
       "**Step 2: Set Up the Equation for Total Cost**\n",
       "The sum of the costs of the bat and the ball is \\$1.10:\n",
       "\\[ B + (B + 1.00) = 1.10 \\]\n",
       "\n",
       "**Step 3: Simplify the Equation**\n",
       "Combine like terms:\n",
       "\\[ 2B + 1.00 = 1.10 \\]\n",
       "\n",
       "**Step 4: Solve for \\( B \\)**\n",
       "Subtract \\$1.00 from both sides of the equation:\n",
       "\\[ 2B = 1.10 - 1.00 \\]\n",
       "\\[ 2B = 0.10 \\]\n",
       "\n",
       "Divide both sides by 2 to find \\( B \\):\n",
       "\\[ B = \\frac{0.10}{2} \\]\n",
       "\\[ B = 0.05 \\]\n",
       "\n",
       "**Conclusion:**\n",
       "The cost of the ball is \\$0.05.\n",
       "\n",
       "\\[\n",
       "\\boxed{\\$0.05}\n",
       "\\]"
      ],
      "text/plain": [
       "<IPython.core.display.Markdown object>"
      ]
     },
     "metadata": {},
     "output_type": "display_data"
    }
   ],
   "source": [
    "from IPython.display import Markdown, display\n",
    "\n",
    "display(Markdown(answer))\n"
   ]
  },
  {
   "cell_type": "markdown",
   "metadata": {},
   "source": [
    "# Congratulations!\n",
    "\n",
    "That was a small, simple step in the direction of Agentic AI, with your new environment!\n",
    "\n",
    "Next time things get more interesting..."
   ]
  },
  {
   "cell_type": "markdown",
   "metadata": {},
   "source": [
    "<table style=\"margin: 0; text-align: left; width:100%\">\n",
    "    <tr>\n",
    "        <td style=\"width: 150px; height: 150px; vertical-align: middle;\">\n",
    "            <img src=\"../assets/exercise.png\" width=\"150\" height=\"150\" style=\"display: block;\" />\n",
    "        </td>\n",
    "        <td>\n",
    "            <h2 style=\"color:#ff7800;\">Exercise</h2>\n",
    "            <span style=\"color:#ff7800;\">Now try this commercial application:<br/>\n",
    "            First ask the LLM to pick a business area that might be worth exploring for an Agentic AI opportunity.<br/>\n",
    "            Then ask the LLM to present a pain-point in that industry - something challenging that might be ripe for an Agentic solution.<br/>\n",
    "            Finally have 3 third LLM call propose the Agentic AI solution.\n",
    "            </span>\n",
    "        </td>\n",
    "    </tr>\n",
    "</table>"
   ]
  },
  {
   "cell_type": "code",
   "execution_count": 17,
   "metadata": {},
   "outputs": [
    {
     "name": "stdout",
     "output_type": "stream",
     "text": [
      "Here's one: In the movie \"Shrek,\" Donkey (voiced by Eddie Murphy) is known for his non-stop talking and endless conversations. However, it's funny that in real life, donkeys do make communicating sounds but they are often far from verbal. They often bray (the sound \"hee-haw\") or make grunting noises, which can mimic something like a non-intelligent run-on internal dialogue about eating food perhaps \"ooh hay\".\n",
      "\n",
      "This contrast between the fun animated version and the real-world behavior provides a humorous take on how much the character in the movie takes from real life but still operates more as a caricature.\n"
     ]
    }
   ],
   "source": [
    "# First create the messages:\n",
    "\n",
    "messages = [{\"role\": \"user\", \"content\": \"Tell me something funny about donkey\"}]\n",
    "\n",
    "# Then make the first call:\n",
    "\n",
    "response = client.chat.completions.create(\n",
    "    model=\"llama-3.1-8b-instant\",\n",
    "    messages=messages\n",
    ")\n",
    "\n",
    "# Then read the business idea:\n",
    "\n",
    "business_idea = response.choices[0].message.content\n",
    "print(business_idea)\n",
    "\n",
    "# And repeat!"
   ]
  },
  {
   "cell_type": "markdown",
   "metadata": {},
   "source": []
  },
  {
   "cell_type": "code",
   "execution_count": 19,
   "metadata": {},
   "outputs": [
    {
     "data": {
      "text/markdown": [
       "Here's one: In the movie \"Shrek,\" Donkey (voiced by Eddie Murphy) is known for his non-stop talking and endless conversations. However, it's funny that in real life, donkeys do make communicating sounds but they are often far from verbal. They often bray (the sound \"hee-haw\") or make grunting noises, which can mimic something like a non-intelligent run-on internal dialogue about eating food perhaps \"ooh hay\".\n",
       "\n",
       "This contrast between the fun animated version and the real-world behavior provides a humorous take on how much the character in the movie takes from real life but still operates more as a caricature."
      ],
      "text/plain": [
       "<IPython.core.display.Markdown object>"
      ]
     },
     "metadata": {},
     "output_type": "display_data"
    }
   ],
   "source": [
    "from IPython.display import Markdown, display\n",
    "\n",
    "display(Markdown(business_idea))"
   ]
  }
 ],
 "metadata": {
  "kernelspec": {
   "display_name": "venv",
   "language": "python",
   "name": "python3"
  },
  "language_info": {
   "codemirror_mode": {
    "name": "ipython",
    "version": 3
   },
   "file_extension": ".py",
   "mimetype": "text/x-python",
   "name": "python",
   "nbconvert_exporter": "python",
   "pygments_lexer": "ipython3",
   "version": "3.10.16"
  }
 },
 "nbformat": 4,
 "nbformat_minor": 2
}
