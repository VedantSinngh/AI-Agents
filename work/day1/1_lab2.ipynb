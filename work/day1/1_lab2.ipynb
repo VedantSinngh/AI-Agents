{
 "cells": [
  {
   "cell_type": "code",
   "execution_count": 28,
   "metadata": {},
   "outputs": [],
   "source": [
    "# Imports \n",
    "import os \n",
    "import json\n",
    "from dotenv import load_dotenv\n",
    "from openai import OpenAI\n",
    "# from anthropic import Anthropic\n",
    "from IPython.display import Markdown, display\n"
   ]
  },
  {
   "cell_type": "code",
   "execution_count": 29,
   "metadata": {},
   "outputs": [
    {
     "data": {
      "text/plain": [
       "True"
      ]
     },
     "execution_count": 29,
     "metadata": {},
     "output_type": "execute_result"
    }
   ],
   "source": [
    "# Check whether there is something on env file or not \n",
    "# (boolean)\n",
    "load_dotenv(override=True)"
   ]
  },
  {
   "cell_type": "code",
   "execution_count": 30,
   "metadata": {},
   "outputs": [],
   "source": [
    "# Check the keys \n",
    "groq_api_key = os.getenv('GROQ_API_KEY')"
   ]
  },
  {
   "cell_type": "code",
   "execution_count": 31,
   "metadata": {},
   "outputs": [],
   "source": [
    "request = \"Please come up with a challenging, nuanced question that I can ask a number of LLMs to evaluate their intelligence. \"\n",
    "request += \"Answer only with the question, no explanation.\"\n",
    "messages = [{\"role\": \"user\", \"content\": request}]"
   ]
  },
  {
   "cell_type": "code",
   "execution_count": 32,
   "metadata": {},
   "outputs": [
    {
     "data": {
      "text/plain": [
       "[{'role': 'user',\n",
       "  'content': 'Please come up with a challenging, nuanced question that I can ask a number of LLMs to evaluate their intelligence. Answer only with the question, no explanation.'}]"
      ]
     },
     "execution_count": 32,
     "metadata": {},
     "output_type": "execute_result"
    }
   ],
   "source": [
    "messages"
   ]
  },
  {
   "cell_type": "code",
   "execution_count": 33,
   "metadata": {},
   "outputs": [
    {
     "name": "stdout",
     "output_type": "stream",
     "text": [
      "\n"
     ]
    }
   ],
   "source": [
    "from groq import Groq\n",
    "import os\n",
    "from dotenv import load_dotenv\n",
    "\n",
    "# Load environment variables\n",
    "load_dotenv()\n",
    "\n",
    "# Retrieve the Groq API key from environment variables\n",
    "groq_api_key = os.getenv('GROQ_API_KEY')\n",
    "\n",
    "# Initialize the Groq client with the API key\n",
    "client = Groq(api_key=groq_api_key)\n",
    "\n",
    "# Prepare your messages (this is just an example, replace it with actual messages)\n",
    "messages = [{\"role\": \"user\", \"content\": \"Hello, how are you?\"}]\n",
    "\n",
    "# Make the request to the chat completions API with streaming enabled\n",
    "response = client.chat.completions.create(\n",
    "    model=\"meta-llama/llama-4-scout-17b-16e-instruct\",\n",
    "    messages=messages,\n",
    "    temperature=1,\n",
    "    max_completion_tokens=1024,\n",
    "    top_p=1,\n",
    "    stream=True,\n",
    "    stop=None,\n",
    ")\n",
    "\n",
    "# Process the streamed response\n",
    "question = \"\"\n",
    "for chunk in response:\n",
    "    if 'choices' in chunk and len(chunk['choices']) > 0:\n",
    "        question += chunk['choices'][0].get('message', {}).get('content', '')\n",
    "\n",
    "# Print the final response after the stream is completed\n",
    "print(question)\n"
   ]
  },
  {
   "cell_type": "code",
   "execution_count": 34,
   "metadata": {},
   "outputs": [],
   "source": [
    "competitors = []\n",
    "answers = []\n",
    "messages = [{\"role\" : \"user\", \"content\" : \"questions\"}]"
   ]
  },
  {
   "cell_type": "code",
   "execution_count": 35,
   "metadata": {},
   "outputs": [
    {
     "name": "stdout",
     "output_type": "stream",
     "text": [
      " New York City is planning to build a new subway line. The city has 20 stations, and they want to connect them with a subway line such that the subway line is a path that visits each station exactly once. This is known as a Hamiltonian path. They also want the subway line to have the shortest possible total distance. So, it's a problem of finding a Hamiltonian path with the minimum total distance.\n",
      "\n",
      "But wait, in reality, subway lines are usually bidirectional, so the path can be traversed in either direction. Therefore, the Hamiltonian path can start at any station and end at any station. So, it's the same as finding a traveling salesman path (TSP) where the salesman can start and end at any two stations, not necessarily the same one.\n",
      "\n",
      "Wait, no, actually, the subway is a path, not a cycle. So, it's a Hamiltonian path, not a cycle. So, the problem is to find a Hamiltonian path with the minimum total distance.\n",
      "\n",
      "But in the problem statement, it's about a subway line, which is a path, not a cycle, so it's a Hamiltonian path, not a cycle. So, the problem is called the \"minimum Hamiltonian path problem.\" But in terms of computational complexity, this is similar to the TSP. In the TSP, we are looking for a cycle, but here we're looking for a path. So, perhaps it's called the \"minimum traveling salesman path problem.\"\n",
      "\n",
      "But in any case, the problem is NP-hard, as TSP is. So, for 20 stations, it's a manageable size, but still, finding the optimal solution might be challenging.\n",
      "\n",
      "But perhaps the stations are arranged in a certain way, like on a grid or something, so that we can find an optimal path.\n",
      "\n",
      "Wait, the problem is that the stations are arranged in a grid-like structure, perhaps. But in the problem statement, it's not specified. So, perhaps we can assume that the stations are arranged in a grid or some other layout.\n",
      "\n",
      "But the user hasn't provided the specific distances between the stations, so perhaps the problem is to explain the approach rather than compute an exact solution.\n",
      "\n",
      "So, to solve this problem, we need to find a Hamiltonian path that connects all 20 stations with the shortest possible total distance. Since it's a path, not a cycle, the start and end points can be any two stations.\n",
      "\n",
      "Given that the number of stations is 20, which is a relatively small number, we might consider using dynamic programming with bitmasking. However, the state space for TSP with 20 cities is 2^20 * 20, which is about 20 million, which is manageable with some optimizations. But I'm not sure if it's feasible to compute exactly without more information.\n",
      "\n",
      "Alternatively, perhaps a heuristic or approximation algorithm could be used, but since the problem asks for the shortest possible total distance, we need an exact solution.\n",
      "\n",
      "Another approach is to model this as a graph problem and use algorithms like the Held-Karp algorithm, which is a dynamic programming approach for TSP. However, since we're dealing with a path instead of a cycle, we might need to adjust the algorithm accordingly.\n",
      "\n",
      "Wait, let me think again. The Held-Karp algorithm is for the TSP, which is about finding a cycle. For a path, it's slightly different. So, perhaps we can modify the Held-Karp approach to find the shortest Hamiltonian path.\n",
      "\n",
      "In the Held-Karp algorithm, the state is represented by a subset of cities visited and the current city. The state (S, i) represents the minimum cost to visit all cities in subset S ending at city i. For the TSP, we start with subsets of size 1 and build up to the full set, then take the minimum over all possible starting points.\n",
      "\n",
      "For the Hamiltonian path, we can do something similar. We can compute the shortest path that starts at any station and ends at any other, covering all stations exactly once.\n",
      "\n",
      "So, the approach would involve:\n",
      "\n",
      "1. Representing the problem as a graph where each node is a station, and edges have weights corresponding to the distances between stations.\n",
      "\n",
      "2. Using dynamic programming with a state defined by a subset of visited stations and the current station. The DP table would store the minimum distance to reach the current station after visiting the subset.\n",
      "\n",
      "3. Initializing the DP table with the distances from each station as the starting point.\n",
      "\n",
      "4. Iteratively building up the subsets, adding one station at a time, and updating the DP table with the minimum distances.\n",
      "\n",
      "5. After processing all subsets, the minimum distance among all possible end stations would be the answer.\n",
      "\n",
      "However, without specific distance data, we can't compute the exact numerical answer here. The user probably expects an explanation of the approach rather than a numerical solution.\n",
      "\n",
      "So, in summary, the problem is to find the shortest Hamiltonian path in a graph with 20 nodes. The solution involves using dynamic programming with bitmasking, similar to the Held-Karp algorithm for TSP, but adjusted for a path instead of a cycle. The algorithm computes the minimum distance for each subset of stations and each possible end station, then finds the overall minimum.\n",
      "\n",
      "If the stations are arranged in a grid or have specific distances, perhaps a heuristic based on nearest neighbor or 2-opt could be applied, but for an exact solution, dynamic programming is the way to go.\n",
      "\n",
      "Another consideration is the implementation. With 20 stations, the number of subsets is 2^20, which is 1,048,576. For each subset, we have 20 possible end stations, so the total number of states is 20 * 2^20 ≈ 20 million. This is manageable with efficient programming, perhaps using memoization and bitwise operations, but it's still computationally intensive. However, for a one-time computation, especially with modern computing power, it's feasible.\n",
      "\n",
      "In conclusion, the approach is to model the subway stations as nodes in a graph, compute the all-pairs shortest paths (if the graph isn't already complete), and then apply a dynamic programming algorithm to find the shortest Hamiltonian path by considering all possible subsets and end points.\n",
      "</think>\n",
      "\n",
      "To solve the problem of finding the shortest possible total distance for a new subway line connecting 20 stations in New York City, we can approach it as a Minimum Hamiltonian Path problem. Here's a step-by-step explanation:\n",
      "\n",
      "1. **Model the Problem as a Graph**: Represent each subway station as a node in a graph. The edges between nodes represent the distances between stations.\n",
      "\n",
      "2. **Dynamic Programming with Bitmasking**: Use a dynamic programming approach where the state is defined by a subset of visited stations and the current station. The state (S, i) represents the minimum distance to visit all stations in subset S ending at station i.\n",
      "\n",
      "3. **Initialize the DP Table**: For each station, initialize the DP table with the distance from that station to itself as zero, as each station is the starting point.\n",
      "\n",
      "4. **Iteratively Build Subsets**: For each subset of stations, and for each possible last station in that subset, update the DP table by considering adding each possible next station not yet in the subset. Update the minimum distance accordingly.\n",
      "\n",
      "5. **Compute the Minimum Distance**: After processing all subsets, the minimum distance among all possible end stations will be the shortest possible total distance for the subway line.\n",
      "\n",
      "6. **Implementation Considerations**: Given the problem size (20 stations), the number of states is manageable with efficient programming, possibly using memoization and bitwise operations to handle the subsets.\n",
      "\n",
      "**Answer:** The shortest possible total distance for the subway line can be found using dynamic programming with bitmasking to solve the Minimum Hamiltonian Path problem, resulting in the optimal path length."
     ]
    }
   ],
   "source": [
    "from groq import Groq\n",
    "\n",
    "client = Groq()\n",
    "completion = client.chat.completions.create(\n",
    "    model=\"deepseek-r1-distill-llama-70b\",\n",
    "    messages=[\n",
    "      {\n",
    "        \"role\": \"user\",\n",
    "        \"content\": \"\"\n",
    "      }\n",
    "    ],\n",
    "    temperature=0.6,\n",
    "    max_completion_tokens=4096,\n",
    "    top_p=0.95,\n",
    "    stream=True,\n",
    "    stop=None,\n",
    ")\n",
    "\n",
    "for chunk in completion:\n",
    "    print(chunk.choices[0].delta.content or \"\", end=\"\")\n"
   ]
  },
  {
   "cell_type": "code",
   "execution_count": 36,
   "metadata": {},
   "outputs": [
    {
     "data": {
      "text/markdown": [
       "<think>\n",
       "\n",
       "</think>\n",
       "\n",
       "Sure! Could you clarify what kind of questions you're looking for? Are you seeking help with a specific topic, or are you just open to any questions? Let me know! 😊"
      ],
      "text/plain": [
       "<IPython.core.display.Markdown object>"
      ]
     },
     "metadata": {},
     "output_type": "display_data"
    }
   ],
   "source": [
    "model_name = \"deepseek-r1-distill-llama-70b\"\n",
    "\n",
    "response = client.chat.completions.create(\n",
    "    model=model_name,\n",
    "    messages=messages,\n",
    ")\n",
    "answer = response.choices[0].message.content\n",
    "\n",
    "display(Markdown(answer))\n",
    "competitors.append(model_name)\n",
    "answers.append(answer)\n"
   ]
  },
  {
   "cell_type": "code",
   "execution_count": 37,
   "metadata": {},
   "outputs": [
    {
     "data": {
      "text/markdown": [
       "Go ahead and ask your questions. I'm here to help. What's on your mind?"
      ],
      "text/plain": [
       "<IPython.core.display.Markdown object>"
      ]
     },
     "metadata": {},
     "output_type": "display_data"
    }
   ],
   "source": [
    "model_name = \"meta-llama/llama-4-scout-17b-16e-instruct\"\n",
    "response = client.chat.completions.create(\n",
    "    model=model_name,\n",
    "    messages=messages,\n",
    ")\n",
    "answer = response.choices[0].message.content\n",
    "\n",
    "display(Markdown(answer))\n",
    "competitors.append(model_name)\n",
    "answers.append(answer)"
   ]
  },
  {
   "cell_type": "code",
   "execution_count": 38,
   "metadata": {},
   "outputs": [
    {
     "name": "stdout",
     "output_type": "stream",
     "text": [
      "['deepseek-r1-distill-llama-70b', 'meta-llama/llama-4-scout-17b-16e-instruct']\n",
      "[\"<think>\\n\\n</think>\\n\\nSure! Could you clarify what kind of questions you're looking for? Are you seeking help with a specific topic, or are you just open to any questions? Let me know! 😊\", \"Go ahead and ask your questions. I'm here to help. What's on your mind?\"]\n"
     ]
    }
   ],
   "source": [
    "print(competitors)\n",
    "print(answers)"
   ]
  },
  {
   "cell_type": "code",
   "execution_count": 39,
   "metadata": {},
   "outputs": [
    {
     "name": "stdout",
     "output_type": "stream",
     "text": [
      "Competitor: deepseek-r1-distill-llama-70b\n",
      "\n",
      "<think>\n",
      "\n",
      "</think>\n",
      "\n",
      "Sure! Could you clarify what kind of questions you're looking for? Are you seeking help with a specific topic, or are you just open to any questions? Let me know! 😊\n",
      "Competitor: meta-llama/llama-4-scout-17b-16e-instruct\n",
      "\n",
      "Go ahead and ask your questions. I'm here to help. What's on your mind?\n"
     ]
    }
   ],
   "source": [
    "# It's nice to know how to use \"zip\"\n",
    "for competitor, answer in zip(competitors, answers):\n",
    "    print(f\"Competitor: {competitor}\\n\\n{answer}\")\n"
   ]
  },
  {
   "cell_type": "code",
   "execution_count": null,
   "metadata": {},
   "outputs": [],
   "source": []
  }
 ],
 "metadata": {
  "kernelspec": {
   "display_name": "venv",
   "language": "python",
   "name": "python3"
  },
  "language_info": {
   "codemirror_mode": {
    "name": "ipython",
    "version": 3
   },
   "file_extension": ".py",
   "mimetype": "text/x-python",
   "name": "python",
   "nbconvert_exporter": "python",
   "pygments_lexer": "ipython3",
   "version": "3.10.16"
  }
 },
 "nbformat": 4,
 "nbformat_minor": 2
}
